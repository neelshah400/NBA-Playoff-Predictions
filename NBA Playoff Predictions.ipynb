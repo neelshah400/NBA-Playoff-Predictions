{
 "cells": [
  {
   "cell_type": "markdown",
   "metadata": {},
   "source": [
    "<center>\n",
    "    <h1>NBA Playoff Predictions</h1>\n",
    "    <h3>Neel Shah</h3>\n",
    "</center>"
   ]
  },
  {
   "cell_type": "markdown",
   "metadata": {},
   "source": [
    "**Table of contents**<a id='toc0_'></a>    \n",
    "1. [Introduction](#toc1_)    \n",
    "2. [Data Collection](#toc2_)    \n",
    "3. [Data Processing](#toc3_)    \n",
    "4. [Exploratory Data Analysis & Visualization](#toc4_)    \n",
    "5. [Modeling: Analysis, Hypothesis Testing, & Machine Learning](#toc5_)    \n",
    "6. [Interpretation: Insight & Policy Decision](#toc6_)    \n",
    "\n",
    "<!-- vscode-jupyter-toc-config\n",
    "\tnumbering=true\n",
    "\tanchor=true\n",
    "\tflat=true\n",
    "\tminLevel=1\n",
    "\tmaxLevel=6\n",
    "\t/vscode-jupyter-toc-config -->\n",
    "<!-- THIS CELL WILL BE REPLACED ON TOC UPDATE. DO NOT WRITE YOUR TEXT IN THIS CELL -->"
   ]
  },
  {
   "cell_type": "markdown",
   "metadata": {},
   "source": [
    "# 1. <a id='toc1_'></a>[Introduction](#toc0_)"
   ]
  },
  {
   "attachments": {},
   "cell_type": "markdown",
   "metadata": {},
   "source": [
    "The [National Basketball Association (NBA)](https://www.nba.com/) is a professional basketball league in the United States. There are [$30$ teams](https://www.nba.com/teams) in the league, divided evenly into $2$ conferences: the Eastern Conference and the Western Conference.\n",
    "\n",
    "In the regular season, each team plays $82$ games. [NBA regular season standings](https://www.nba.com/standings) are determined by teams' win-loss records within their conferences.\n",
    "\n",
    "The top $8$ teams from each conference advance to the playoffs. In the event of a tie in the standings, there is a [tie-breaking procedure](https://ak-static-int.nba.com/wp-content/uploads/sites/2/2017/06/NBA_Tiebreaker_Procedures.pdf) used to determine playoff seeding.\n",
    "\n",
    "Starting in the $2019\\text{-}20$ season, the NBA [added a play-in tournament](https://bleacherreport.com/articles/10031906-adam-silver-envisions-nba-play-in-tournament-becoming-a-fixture-in-this-league) to give the $9^\\text{th}$ and $10^\\text{th}$ place teams in each conference the opportunity to earn a spot in the playoffs. It works as follows:\n",
    "- The $7^\\text{th}$ and $8^\\text{th}$ place teams play a game to determine the $7^\\text{th}$ seed. The winner advances to the playoffs.\n",
    "- The $9^\\text{th}$ and $10^\\text{th}$ place teams play an elimination game. The loser is eliminated.\n",
    "- The loser of the $7/8$ game and the winner of the $9/10$ game play an elimination game to determine the $8^\\text{th}$ seed. The winner advances to the playoffs; the loser is eliminated.\n",
    "\n",
    "Once the final playoff seeding is determined, each team plays an opponent in a best-of-$7$ series. The first to win $4$ games advances to the next round. The first round is followed by the conference semifinals, then the conference finals, then the finals. The team that wins the NBA Finals in the NBA Champion.\n",
    "\n",
    "The matchups for each round are determined using a traditional bracket structure, shown below:\n",
    "\n",
    "![NBA Playoff Bracket](nba-playoff-bracket.png \"NBA Playoff Bracket\")\n",
    "\n",
    "We want to perform some analysis to see if we can identify factors underlying teams' level of success in the playoffs. Our ultimate goal will be to predict the outcome of the NBA playoffs using data from the regular season.\n",
    "\n",
    "Can we predict how likely a team is to:\n",
    "- Win the championship?\n",
    "- Make the finals?\n",
    "- Make the conference finals?\n",
    "- Make the conference semifinals?\n",
    "\n",
    "These are some of the questions we want to answer as we go through the full data science pipeline.\n"
   ]
  },
  {
   "cell_type": "markdown",
   "metadata": {},
   "source": [
    "# 2. <a id='toc2_'></a>[Data Collection](#toc0_)"
   ]
  },
  {
   "cell_type": "markdown",
   "metadata": {},
   "source": [
    "# 3. <a id='toc3_'></a>[Data Processing](#toc0_)"
   ]
  },
  {
   "cell_type": "markdown",
   "metadata": {},
   "source": [
    "# 4. <a id='toc4_'></a>[Exploratory Data Analysis & Visualization](#toc0_)"
   ]
  },
  {
   "cell_type": "markdown",
   "metadata": {},
   "source": [
    "# 5. <a id='toc5_'></a>[Modeling: Analysis, Hypothesis Testing, & Machine Learning](#toc0_)"
   ]
  },
  {
   "cell_type": "markdown",
   "metadata": {},
   "source": [
    "# 6. <a id='toc6_'></a>[Interpretation: Insight & Policy Decision](#toc0_)"
   ]
  }
 ],
 "metadata": {
  "authors": [
   {
    "name": "Neel Shah"
   }
  ],
  "kernelspec": {
   "display_name": "Python 3 (ipykernel)",
   "language": "python",
   "name": "python3"
  },
  "language_info": {
   "codemirror_mode": {
    "name": "ipython",
    "version": 3
   },
   "file_extension": ".py",
   "mimetype": "text/x-python",
   "name": "python",
   "nbconvert_exporter": "python",
   "pygments_lexer": "ipython3",
   "version": "3.9.12"
  },
  "toc": {
   "base_numbering": 1,
   "nav_menu": {},
   "number_sections": true,
   "sideBar": true,
   "skip_h1_title": false,
   "title_cell": "Table of Contents",
   "title_sidebar": "Contents",
   "toc_cell": false,
   "toc_position": {},
   "toc_section_display": true,
   "toc_window_display": false
  }
 },
 "nbformat": 4,
 "nbformat_minor": 2
}

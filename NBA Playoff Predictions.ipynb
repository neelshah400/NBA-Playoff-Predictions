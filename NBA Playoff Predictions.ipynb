{
  "cells": [
    {
      "attachments": {},
      "cell_type": "markdown",
      "metadata": {},
      "source": [
        "<center>\n",
        "    <h1>NBA Playoff Predictions</h1>\n",
        "    <h3>Neel Shah</h3>\n",
        "</center>\n"
      ]
    },
    {
      "attachments": {},
      "cell_type": "markdown",
      "metadata": {},
      "source": [
        "**Table of contents**<a id='toc0_'></a>\n",
        "\n",
        "1. [Introduction](#toc1_)  \n",
        "   1.1. [Background Information](#toc1_1_)  \n",
        "   1.2. [Objective](#toc1_2_)  \n",
        "   1.3. [Configuration](#toc1_3_)\n",
        "2. [Data Collection](#toc2_)  \n",
        "   2.1. [Setup](#toc2_1_)  \n",
        "   2.2. [Data Scraping](#toc2_2_)\n",
        "3. [Data Processing](#toc3_)\n",
        "4. [Exploratory Data Analysis & Visualization](#toc4_)\n",
        "5. [Modeling: Analysis, Hypothesis Testing, & Machine Learning](#toc5_)\n",
        "6. [Interpretation: Insight & Policy Decision](#toc6_)\n",
        "\n",
        "<!-- vscode-jupyter-toc-config\n",
        "\tnumbering=true\n",
        "\tanchor=true\n",
        "\tflat=true\n",
        "\tminLevel=1\n",
        "\tmaxLevel=6\n",
        "\t/vscode-jupyter-toc-config -->\n",
        "<!-- THIS CELL WILL BE REPLACED ON TOC UPDATE. DO NOT WRITE YOUR TEXT IN THIS CELL -->\n"
      ]
    },
    {
      "cell_type": "markdown",
      "metadata": {},
      "source": [
        "# 1. <a id='toc1_'></a>[Introduction](#toc0_)\n"
      ]
    },
    {
      "cell_type": "markdown",
      "metadata": {},
      "source": [
        "## 1.1. <a id='toc1_1_'></a>[Background Information](#toc0_)\n"
      ]
    },
    {
      "attachments": {},
      "cell_type": "markdown",
      "metadata": {},
      "source": [
        "The [National Basketball Association (NBA)][NBA] is a professional basketball league in the United States. There are [$30$ teams][NBA teams] in the league, divided evenly into $2$ conferences: the Eastern Conference and the Western Conference.\n",
        "\n",
        "In the regular season, each team plays $82$ games. [NBA regular season standings][NBA standings] are determined by teams' win-loss records within their conferences.\n",
        "\n",
        "The top $8$ teams from each conference advance to the playoffs. In the event of a tie in the standings, there is a [tie-breaking procedure][NBA tie-breaking procedure] used to determine playoff seeding.\n",
        "\n",
        "Starting in the $2019\\text{-}20$ season, the NBA [added a play-in tournament][Bleacher Report play-in tournament] to give the $9^\\text{th}$ and $10^\\text{th}$ place teams in each conference the opportunity to earn a spot in the playoffs. It works as follows:\n",
        "\n",
        "- The $7^\\text{th}$ and $8^\\text{th}$ place teams play a game to determine the $7^\\text{th}$ seed. The winner advances to the playoffs.\n",
        "- The $9^\\text{th}$ and $10^\\text{th}$ place teams play an elimination game. The loser is eliminated.\n",
        "- The loser of the $7/8$ game and the winner of the $9/10$ game play an elimination game to determine the $8^\\text{th}$ seed. The winner advances to the playoffs; the loser is eliminated.\n",
        "\n",
        "Once the final playoff seeding is determined, each team plays an opponent in a best-of-$7$ series. The first to win $4$ games advances to the next round. The first round is followed by the conference semifinals, then the conference finals, then the finals. The team that wins the NBA Finals in the NBA Champion.\n",
        "\n",
        "The matchups for each round are determined using a traditional bracket structure, shown below:\n",
        "\n",
        "![NBA Playoff Bracket](nba-playoff-bracket.png \"NBA Playoff Bracket\")\n",
        "\n",
        "[NBA]: https://www.nba.com/\n",
        "[NBA teams]: https://www.nba.com/teams\n",
        "[NBA standings]: https://www.nba.com/standings\n",
        "[NBA tie-breaking procedure]: https://ak-static-int.nba.com/wp-content/uploads/sites/2/2017/06/NBA_Tiebreaker_Procedures.pdf\n",
        "[Bleacher Report play-in tournament]: https://bleacherreport.com/articles/10031906-adam-silver-envisions-nba-play-in-tournament-becoming-a-fixture-in-this-league\n"
      ]
    },
    {
      "cell_type": "markdown",
      "metadata": {},
      "source": [
        "## 1.2. <a id='toc1_2_'></a>[Objective](#toc0_)\n"
      ]
    },
    {
      "attachments": {},
      "cell_type": "markdown",
      "metadata": {},
      "source": [
        "We want to perform some analysis to see if we can identify factors underlying teams' level of success in the playoffs. Our ultimate goal will be to predict the outcome of the NBA playoffs using data from the regular season.\n",
        "\n",
        "Can we predict how likely a team is to:\n",
        "\n",
        "- Make the conference semifinals (i.e. win at least $4$ playoff games)?\n",
        "- Make the conference finals (i.e. win at least $8$ playoff games)?\n",
        "- Make the finals (i.e. win at least $12$ playoff games)?\n",
        "- Win the championship (i.e. win $16$ playoff games)?\n",
        "\n",
        "These are some of the questions we want to answer as we go through the full data science pipeline.\n"
      ]
    },
    {
      "cell_type": "markdown",
      "metadata": {},
      "source": [
        "## 1.3. <a id='toc1_3_'></a>[Configuration](#toc0_)\n"
      ]
    },
    {
      "attachments": {},
      "cell_type": "markdown",
      "metadata": {},
      "source": [
        "We'll start by importing the [`Python`][Python] libraries necessary for this project and configuring some things.\n",
        "\n",
        "[Python]: https://www.python.org/\n"
      ]
    },
    {
      "cell_type": "code",
      "execution_count": 47,
      "metadata": {},
      "outputs": [],
      "source": [
        "import warnings\n",
        "import time\n",
        "from pathlib import Path\n",
        "import requests\n",
        "from bs4 import BeautifulSoup, Comment, MarkupResemblesLocatorWarning\n",
        "import pandas as pd\n",
        "\n",
        "warnings.filterwarnings(\"ignore\", category=MarkupResemblesLocatorWarning, module=\"bs4\")\n",
        "\n",
        "headers = {\n",
        "    \"User-Agent\": \"Mozilla/5.0 (Windows NT 10.0; Win64; x64) AppleWebKit/537.36 (KHTML, like Gecko) Chrome/110.0.0.0 Safari/537.36\"\n",
        "}\n"
      ]
    },
    {
      "cell_type": "markdown",
      "metadata": {},
      "source": [
        "# 2. <a id='toc2_'></a>[Data Collection](#toc0_)\n"
      ]
    },
    {
      "attachments": {},
      "cell_type": "markdown",
      "metadata": {},
      "source": [
        "## 2.1. <a id='toc2_1_'></a>[Setup](#toc0_)\n"
      ]
    },
    {
      "attachments": {},
      "cell_type": "markdown",
      "metadata": {},
      "source": [
        "Now, we need to collect data that we can use in our analysis. For this, we will scrape data from [Basketball Reference][Basketball Reference], a site that provides historical basketball data.\n",
        "\n",
        "We will use data from the $2002\\text{-}03$ season ([when the NBA switched to the current playoff format, where every series is best-of-$7$][NBA playoffs history]) to the $2022\\text{-}23$ season (the current season). For each season, we will scrape the following information:\n",
        "\n",
        "- Per Game Stats from Season Summary page\n",
        "- Advanced Stats from Season Summary page\n",
        "- Expanded Standings from Standings page\n",
        "- Advanced Stats from Playoffs Summary page\n",
        "\n",
        "For convenience, we will define a function called `pages_to_scrape`. Given a season, it will return a dictionary which maps the URL of the page we will be scraping to the list of information about each table we will be scraping from that page.\n",
        "\n",
        "Each element in the list will be in the form of a dictionary with $2$ items:\n",
        "\n",
        "- The `id` of the `HTML` `table` element we will be scraping from the page\n",
        "- The `path` where we will be storing the table as a `CSV`\n",
        "\n",
        "[Basketball Reference]: https://www.basketball-reference.com/\n",
        "[NBA playoffs history]: https://www.nba.com/magic/history-no-1-vs-no-8-nba-playoffs-20200810\n"
      ]
    },
    {
      "cell_type": "code",
      "execution_count": 48,
      "metadata": {},
      "outputs": [],
      "source": [
        "def pages_to_scrape(season):\n",
        "    return {\n",
        "        f\"https://www.basketball-reference.com/leagues/NBA_{season}.html\": [\n",
        "            {\n",
        "                \"id\": \"per_game-team\",\n",
        "                \"path\": f\"data/raw/{season}/regular_season/per_game_stats.csv\",\n",
        "            },\n",
        "            {\n",
        "                \"id\": \"advanced-team\",\n",
        "                \"path\": f\"data/raw/{season}/regular_season/advanced_stats.csv\",\n",
        "            },\n",
        "        ],\n",
        "        f\"https://www.basketball-reference.com/leagues/NBA_{season}_standings.html\": [\n",
        "            {\n",
        "                \"id\": \"expanded_standings\",\n",
        "                \"path\": f\"data/raw/{season}/regular_season/standings.csv\",\n",
        "            }\n",
        "        ],\n",
        "        f\"https://www.basketball-reference.com/playoffs/NBA_{season}.html\": [\n",
        "            {\n",
        "                \"id\": \"advanced-team\",\n",
        "                \"path\": f\"data/raw/{season}/playoffs/advanced_stats.csv\",\n",
        "            }\n",
        "        ],\n",
        "    }\n"
      ]
    },
    {
      "attachments": {},
      "cell_type": "markdown",
      "metadata": {},
      "source": [
        "## 2.2. <a id='toc2_2_'></a>[Data Scraping](#toc0_)\n"
      ]
    },
    {
      "attachments": {},
      "cell_type": "markdown",
      "metadata": {},
      "source": [
        "To scrape the data from each page, we will do the following:\n",
        "\n",
        "- Perform an `HTTP` `GET` request to the appropriate URL using the [`Requests`][Requests] library.\n",
        "- Parse the webpage using [`Beautiful Soup`][Beautiful Soup].\n",
        "- Find the `HTML` `table` with the appropriate `id`.\n",
        "- Read the parsed `HTML` `table` into a `DataFrame` using [`pandas`][pandas].\n",
        "- Ensure that the appropriate `path` exists in the filesystem using [`pathlib`][pathlib].\n",
        "- Write the `DataFrame` to a `CSV` file at the appropriate `path` using [`pandas`][pandas].\n",
        "\n",
        "In our approach, there are a few issues that we have to address as well:\n",
        "\n",
        "- To save time, if the `CSV` files for a page already exist, we will not re-scrape the page.\n",
        "- It appears that some of the `table` elements are hidden inside of `HTML` comments, so we have to look there if a `table` can't be found normally.\n",
        "- To avoid hitting rate limits (from making too many requests in a given time period), we have to add a $10$ second `sleep` between each `HTTP` `GET` request using the [`time`][time] library.\n",
        "\n",
        "[Requests]: https://requests.readthedocs.io/en/latest/\n",
        "[Beautiful Soup]: https://beautiful-soup-4.readthedocs.io/en/latest/\n",
        "[pandas]: https://pandas.pydata.org/\n",
        "[pathlib]: https://docs.python.org/3/library/pathlib.html\n",
        "[time]: https://docs.python.org/3/library/time.html\n"
      ]
    },
    {
      "cell_type": "code",
      "execution_count": 49,
      "metadata": {},
      "outputs": [],
      "source": [
        "for season in range(2003, 2023 + 1):\n",
        "\n",
        "    pages = pages_to_scrape(season)\n",
        "\n",
        "    for url, infoList in pages.items():\n",
        "\n",
        "        if all([Path(info[\"path\"]).exists() for info in infoList]):\n",
        "            continue\n",
        "\n",
        "        page = requests.get(url, headers=headers)\n",
        "        soup = BeautifulSoup(page.content, \"html.parser\")\n",
        "\n",
        "        for info in infoList:\n",
        "\n",
        "            if Path(info[\"path\"]).exists():\n",
        "                continue\n",
        "\n",
        "            table = soup.find(\"table\", id=info[\"id\"])\n",
        "            if table is None:\n",
        "                for comment in soup.find_all(\n",
        "                    string=lambda text: isinstance(text, Comment)\n",
        "                ):\n",
        "                    comment_soup = BeautifulSoup(comment, \"html.parser\")\n",
        "                    table = comment_soup.find(\"table\", id=info[\"id\"])\n",
        "                    if table is not None:\n",
        "                        break\n",
        "\n",
        "            df = pd.read_html(str(table))[0]\n",
        "            Path(info[\"path\"]).parent.mkdir(parents=True, exist_ok=True)\n",
        "            df.to_csv(info[\"path\"], index=False)\n",
        "\n",
        "        time.sleep(10)\n"
      ]
    },
    {
      "cell_type": "markdown",
      "metadata": {},
      "source": [
        "# 3. <a id='toc3_'></a>[Data Processing](#toc0_)\n"
      ]
    },
    {
      "cell_type": "markdown",
      "metadata": {},
      "source": [
        "# 4. <a id='toc4_'></a>[Exploratory Data Analysis & Visualization](#toc0_)\n"
      ]
    },
    {
      "cell_type": "markdown",
      "metadata": {},
      "source": [
        "# 5. <a id='toc5_'></a>[Modeling: Analysis, Hypothesis Testing, & Machine Learning](#toc0_)\n"
      ]
    },
    {
      "cell_type": "markdown",
      "metadata": {},
      "source": [
        "# 6. <a id='toc6_'></a>[Interpretation: Insight & Policy Decision](#toc0_)\n"
      ]
    }
  ],
  "metadata": {
    "authors": [
      {
        "name": "Neel Shah"
      }
    ],
    "kernelspec": {
      "display_name": "Python 3 (ipykernel)",
      "language": "python",
      "name": "python3"
    },
    "language_info": {
      "codemirror_mode": {
        "name": "ipython",
        "version": 3
      },
      "file_extension": ".py",
      "mimetype": "text/x-python",
      "name": "python",
      "nbconvert_exporter": "python",
      "pygments_lexer": "ipython3",
      "version": "3.9.12"
    },
    "title": "NBA Playoff Predictions"
  },
  "nbformat": 4,
  "nbformat_minor": 2
}
